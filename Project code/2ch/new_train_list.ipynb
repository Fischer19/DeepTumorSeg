{
 "cells": [
  {
   "cell_type": "code",
   "execution_count": 3,
   "metadata": {},
   "outputs": [
    {
     "name": "stdout",
     "output_type": "stream",
     "text": [
      "8629298\n",
      "5198000\n"
     ]
    }
   ],
   "source": [
    "import pickle as pkl\n",
    "import random\n",
    "\n",
    "input2 = open('/home/yiqin/two_path_cnn/training_list.pkl', 'rb')\n",
    "train_list = pkl.load(input2)\n",
    "input2.close()\n",
    "new_list = []\n",
    "print(len(train_list))\n",
    "for i in range(len(train_list)):        \n",
    "    case,x,y,z,l = train_list[i]\n",
    "    x,y,z,l = int(x), int(y), int(z), int(l)\n",
    "    if (l==1) or (l==3) or (l==4):\n",
    "        dice = random.randint(0,2)\n",
    "        if dice==0:\n",
    "            l = 1\n",
    "            new_list.append((case, x, y, z, l))\n",
    "    else:\n",
    "        new_list.append((case, x, y, z, l))\n",
    "print(len(new_list))"
   ]
  },
  {
   "cell_type": "code",
   "execution_count": 6,
   "metadata": {},
   "outputs": [],
   "source": [
    "output = open('2ch_train.pkl', 'wb')\n",
    "pkl.dump(new_list, output)\n",
    "output.close()"
   ]
  },
  {
   "cell_type": "code",
   "execution_count": 7,
   "metadata": {},
   "outputs": [
    {
     "name": "stdout",
     "output_type": "stream",
     "text": [
      "5198000\n"
     ]
    }
   ],
   "source": [
    "input1 = open('2ch_train.pkl', 'rb')\n",
    "list1 = pkl.load(input1)\n",
    "print(len(list1))\n",
    "input1.close()"
   ]
  },
  {
   "cell_type": "code",
   "execution_count": null,
   "metadata": {
    "collapsed": true
   },
   "outputs": [],
   "source": []
  }
 ],
 "metadata": {
  "kernelspec": {
   "display_name": "Python 3",
   "language": "python",
   "name": "python3"
  },
  "language_info": {
   "codemirror_mode": {
    "name": "ipython",
    "version": 3
   },
   "file_extension": ".py",
   "mimetype": "text/x-python",
   "name": "python",
   "nbconvert_exporter": "python",
   "pygments_lexer": "ipython3",
   "version": "3.6.1"
  }
 },
 "nbformat": 4,
 "nbformat_minor": 2
}
